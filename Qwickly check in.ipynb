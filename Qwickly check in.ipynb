{
 "cells": [
  {
   "cell_type": "markdown",
   "metadata": {},
   "source": [
    "# Qwickly automated check in\n",
    " ## By Dominik Klepl\n",
    "Created on Sun Mar 11 12:04:48 2018"
   ]
  },
  {
   "cell_type": "markdown",
   "metadata": {},
   "source": [
    "Hey you lazy student\n",
    "\n",
    "   With this script you go around the incredibly boring, annoying Qwickly check in process.\n",
    "The only thing it requires is a csv file with your login and password to Blackboard named \"info.csv\".\n",
    "If you're not using Mac or for same reason you do but Safari is not your default browser you'll need to\n",
    "replace the word \"Safari\" on line 38 with name of your browser. Selenium library supports \n",
    "at the moment follwing browsers: Safari, IE, Edge, Chrome Firefox.\n",
    "\n",
    "Selenium is an amazing Python package for automated navigating through the web. Don't worry your machine\n",
    "shouldn't be hijacked. For those interested check out their documentation \n",
    "(http://selenium-python.readthedocs.io/index.html). It can do a lot of cool stuff.\n",
    "\n",
    "From now on you can enjoy the lecture without having to think of Qwickly. \n",
    "You can also run the script from your terminal by navigating to location of this script and typing in python3 Check in.py"
   ]
  },
  {
   "cell_type": "code",
   "execution_count": 2,
   "metadata": {},
   "outputs": [],
   "source": [
    "# import libraries required\n",
    "from selenium import webdriver\n",
    "import time\n",
    "import pandas as pd"
   ]
  },
  {
   "cell_type": "markdown",
   "metadata": {},
   "source": [
    "## 1. Load user data\n",
    "So that you don't need to type your login info into the code write it into csv file Check in.csv (template on Github).\n",
    "Further you need to change the location of the csv file unless by some miracle yours is the same as mine.\n",
    "When you run the script from terminal you'll be asked to enter the course you're checking in for. "
   ]
  },
  {
   "cell_type": "code",
   "execution_count": 3,
   "metadata": {},
   "outputs": [
    {
     "name": "stdout",
     "output_type": "stream",
     "text": [
      "Hello, enjoying lecture? BTW what lecture would that be? \n",
      " 0: Social and cultural dynamics in cognition \n",
      " 1: Computational Modeling for Cognitive Science \n",
      " 2: Models of perception and action \n",
      " Your answer: 2\n"
     ]
    }
   ],
   "source": [
    "#open the file with login info and course name\n",
    "info = pd.read_csv('/Users/dominikklepl/Desktop/Check in.csv',sep=';')\n",
    "\n",
    "#extract the information from the csv file\n",
    "user=info.iloc[0]['Username']\n",
    "password=info.iloc[0]['Password']\n",
    "\n",
    "#ask for which course you're checking in\n",
    "which_course = input(\"Hello, enjoying lecture? BTW what lecture would that be? \\n 0: Social and cultural dynamics in cognition \\n 1: Computational Modeling for Cognitive Science \\n 2: Models of perception and action \\n Your answer: \")\n",
    "which_course = int(which_course)\n",
    "\n",
    "\n",
    "#depending on which_course choose the correct row in info\n",
    "course=info.iloc[which_course]['Course']"
   ]
  },
  {
   "cell_type": "markdown",
   "metadata": {},
   "source": [
    "# 2. Automation rise\n",
    "Now that the programm knows everything it requires the automatic part begins and you can either turn your attention back to the lecture or watch in amazement how the programm does everything instead of you.\n",
    "\n",
    "First the browser, Safari in my case, opens. The the blackboard login webpage opens. On this page we need to do 3 things: locate all the fields and buttons, fill in the info and hit \"login\". And that's exactly what the programm does. And then it waits a while for the page to load properly."
   ]
  },
  {
   "cell_type": "code",
   "execution_count": 4,
   "metadata": {},
   "outputs": [],
   "source": [
    "#open browser - replace Safari with your browser of choice\n",
    "driver = webdriver.Safari()\n",
    "\n",
    "driver.get(\"https://blackboard.au.dk/webapps/bb-auth-provider-shibboleth-BBLEARN/execute/shibbolethLogin?returnUrl=https%3A%2F%2Fblackboard.au.dk%2Fwebapps%2Fportal%2Fframeset.jsp&authProviderId=_102_1\")\n",
    "\n",
    "\n",
    "#find all the boxes needed to login to blackboard\n",
    "username_box = driver.find_element_by_id('username')\n",
    "password_box = driver.find_element_by_id('password')\n",
    "login_button = driver.find_element_by_class_name('button')\n",
    "\n",
    "#fill in the boxes and click on \"login\" button\n",
    "username_box.send_keys(user)\n",
    "password_box.send_keys(password)\n",
    "login_button.click()\n",
    "\n",
    "#wait for the page to load\n",
    "time.sleep(5)"
   ]
  },
  {
   "cell_type": "markdown",
   "metadata": {},
   "source": [
    "### Enter Blackboard\n",
    "After the programm succesfully loged in we're at the main page of your blackboard. Depending on the lecture you're currently sitting at the programm selects the correct course from \"My courses\" menu and clicks on it. After that the programm gives your computer time to load the next page."
   ]
  },
  {
   "cell_type": "code",
   "execution_count": null,
   "metadata": {},
   "outputs": [],
   "source": [
    "#choose the course from the \"My courses\" menu and click on it then wait\n",
    "course_link = driver.find_element_by_link_text(course)\n",
    "course_link.click()\n",
    "\n",
    "time.sleep(5)"
   ]
  },
  {
   "cell_type": "markdown",
   "metadata": {},
   "source": [
    "### Course page\n",
    "Now we entered the specific page of the course. Here a small challenge awaits us, the side menu is hidden. However the programm is unstoppable and simply pulls the side menu from its hidding. \n",
    "In there it finds the Qwickly button and clicks on it."
   ]
  },
  {
   "cell_type": "code",
   "execution_count": null,
   "metadata": {},
   "outputs": [],
   "source": [
    "#the side menu is hidden so we need to pull it to the side to make it visible and click on it\n",
    "menu_pull = driver.find_element_by_class_name('clickpuller')\n",
    "menu_pull.click()\n",
    "\n",
    "#click on Qwickly in the side menu\n",
    "qwickly_button = driver.find_element_by_link_text('Qwickly')\n",
    "qwickly_button.click()"
   ]
  },
  {
   "cell_type": "markdown",
   "metadata": {},
   "source": [
    "For now we have to say bye bye to the programm as the \"Check in\" button is currently unavailable and won't be until I attend another lecture. When I do I'll expand the programm to click on the check in button for you. In courses that require a password to check in you'll be given an opportunity to type this secret code in and the programm will obey again.\n",
    "\n",
    "See you until then\n",
    "\n",
    "#### D. :-)"
   ]
  },
  {
   "cell_type": "code",
   "execution_count": null,
   "metadata": {},
   "outputs": [],
   "source": []
  }
 ],
 "metadata": {
  "kernelspec": {
   "display_name": "Python 3",
   "language": "python",
   "name": "python3"
  },
  "language_info": {
   "codemirror_mode": {
    "name": "ipython",
    "version": 3
   },
   "file_extension": ".py",
   "mimetype": "text/x-python",
   "name": "python",
   "nbconvert_exporter": "python",
   "pygments_lexer": "ipython3",
   "version": "3.6.4"
  }
 },
 "nbformat": 4,
 "nbformat_minor": 2
}
